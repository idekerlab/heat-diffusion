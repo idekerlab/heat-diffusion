{
 "cells": [
  {
   "cell_type": "markdown",
   "metadata": {},
   "source": [
    "Load libraries.  In this case we need the ndex library, which you can get with \"pip install ndex\""
   ]
  },
  {
   "cell_type": "code",
   "execution_count": 1,
   "metadata": {},
   "outputs": [],
   "source": [
    "import ndex2"
   ]
  },
  {
   "cell_type": "code",
   "execution_count": 2,
   "metadata": {},
   "outputs": [],
   "source": [
    "import requests\n",
    "import json\n",
    "import base64"
   ]
  },
  {
   "cell_type": "markdown",
   "metadata": {},
   "source": [
    "# Connect to NDEx in order to retrieve a network.\n",
    "\n",
    "Via `ndex2.create_nice_cx_from_server()`, we grab the [NCI Pathway Interaction Database - Final Revision - Extended Binary SIF](http://ndexbio.org/#/network/c0e70804-d848-11e6-86b1-0ac135e8bacf) network from NDEx, using its UUID.  \n",
    "\n",
    "The network is downloaded to create a [NiceCX](https://ndex2.readthedocs.io/en/latest/ndex2.html#nicecxnetwork) object `nice_cx_net`. "
   ]
  },
  {
   "cell_type": "code",
   "execution_count": 3,
   "metadata": {},
   "outputs": [],
   "source": [
    "nice_cx_net = ndex2.create_nice_cx_from_server(server='http://public.ndexbio.org',\n",
    "                                               uuid='c0e70804-d848-11e6-86b1-0ac135e8bacf')"
   ]
  },
  {
   "cell_type": "markdown",
   "metadata": {},
   "source": [
    "# Select seed nodes for diffusion\n",
    "\n",
    "To set seed nodes, add the node attribute `diffusion_input` with a value of `1.0`\n",
    "\n",
    "The code below grabs the first node, setting the `diffusion_input` node attribute. \n"
   ]
  },
  {
   "cell_type": "code",
   "execution_count": 4,
   "metadata": {
    "scrolled": true
   },
   "outputs": [
    {
     "name": "stdout",
     "output_type": "stream",
     "text": [
      "{'po': 3431, 'n': 'diffusion_input', 'v': '1.0', 'd': 'double'}\n"
     ]
    }
   ],
   "source": [
    "\n",
    "for nodeid, nodeobj in nice_cx_net.get_nodes():\n",
    "    nice_cx_net.remove_node_attribute(node=nodeid, attribute_name='diffusion_input')\n",
    "    nice_cx_net.set_node_attribute(type='double', node=nodeid, attribute_name='diffusion_input', values='1.0')\n",
    "    print(nice_cx_net.get_node_attribute(nodeid,'diffusion_input'))\n",
    "    # break out of loop so we only set the attribute on the first node\n",
    "    break"
   ]
  },
  {
   "cell_type": "markdown",
   "metadata": {},
   "source": [
    "# Call the Diffusion service\n",
    "\n",
    "Here the diffusion service is called. This can take a few minutes to run. \n",
    "\n",
    "#### NOTE: Diffusion uses the CXmate service, which requires all attributes to be passed as strings. So we convert the network to CX and stringify attributes"
   ]
  },
  {
   "cell_type": "code",
   "execution_count": 5,
   "metadata": {},
   "outputs": [
    {
     "name": "stdout",
     "output_type": "stream",
     "text": [
      "Generating CX\n"
     ]
    }
   ],
   "source": [
    "url = 'http://v3.heat-diffusion.cytoscape.io'\n",
    "payload = nice_cx_net.to_cx()\n",
    "for p in payload:\n",
    "    k = list(p.keys())[0]\n",
    "    if 'Attributes' in k:\n",
    "        for i in range(len(p[k])):\n",
    "            p[k][i]['v'] = str(p[k][i]['v'])\n",
    "response = requests.post(url, json=payload)"
   ]
  },
  {
   "cell_type": "markdown",
   "metadata": {},
   "source": [
    "# Add results from diffusion to our network\n",
    "\n",
    "The `data` dictionary in the json response `response.json()['data']` is a dictionary that contains [CX](https://home.ndexbio.org/data-model/) formatted data with results of diffussion. This next fragment of code grabs the results of diffusion"
   ]
  },
  {
   "cell_type": "code",
   "execution_count": 6,
   "metadata": {},
   "outputs": [],
   "source": [
    "for aspect in response.json()['data']:\n",
    "    if 'nodeAttributes' not in aspect:\n",
    "        continue\n",
    "    for n_attr in aspect['nodeAttributes']:\n",
    "        if n_attr['n'] == 'diffusion_output_rank' or n_attr['n'] == 'diffusion_output_heat':\n",
    "            if n_attr['d'] == 'float':\n",
    "                n_type = 'double'\n",
    "            else:\n",
    "                n_type = n_attr['d']\n",
    "            nice_cx_net.add_node_attribute(property_of=int(n_attr['po']),\n",
    "                                 name=n_attr['n'],\n",
    "                                 values=n_attr['v'],\n",
    "                                 type=n_type)\n",
    "\n"
   ]
  },
  {
   "cell_type": "markdown",
   "metadata": {},
   "source": [
    "# Output best results from diffusion\n",
    "\n",
    "Here the code iterates through the nodes of the network looking for the \n",
    "`10` best hits (by examining `diffusion_output_rank`)."
   ]
  },
  {
   "cell_type": "code",
   "execution_count": 7,
   "metadata": {},
   "outputs": [
    {
     "data": {
      "text/plain": [
       "[{'@id': 2878,\n",
       "  'n': 'BRAF',\n",
       "  'diffusion_output_rank': '0',\n",
       "  'diffusion_output_heat': 0.06310134724929448},\n",
       " {'@id': 2600,\n",
       "  'n': 'PAK4',\n",
       "  'diffusion_output_rank': '1',\n",
       "  'diffusion_output_heat': 0.03045349811890815},\n",
       " {'@id': 2147,\n",
       "  'n': 'PPP2R2B',\n",
       "  'diffusion_output_rank': '2',\n",
       "  'diffusion_output_heat': 0.030320880954123476},\n",
       " {'@id': 2397,\n",
       "  'n': 'KSR1',\n",
       "  'diffusion_output_rank': '3',\n",
       "  'diffusion_output_heat': 0.025078867225448172},\n",
       " {'@id': 1340,\n",
       "  'n': 'RIT2',\n",
       "  'diffusion_output_rank': '4',\n",
       "  'diffusion_output_heat': 0.022151178863522168},\n",
       " {'@id': 1337,\n",
       "  'n': 'RIT1',\n",
       "  'diffusion_output_rank': '5',\n",
       "  'diffusion_output_heat': 0.022151178863522168},\n",
       " {'@id': 1857,\n",
       "  'n': 'PPP2R1A',\n",
       "  'diffusion_output_rank': '6',\n",
       "  'diffusion_output_heat': 0.02035448507221378},\n",
       " {'@id': 1251,\n",
       "  'n': 'RANBP10',\n",
       "  'diffusion_output_rank': '7',\n",
       "  'diffusion_output_heat': 0.019835930214747586},\n",
       " {'@id': 1431,\n",
       "  'n': 'MUC20',\n",
       "  'diffusion_output_rank': '8',\n",
       "  'diffusion_output_heat': 0.01881729116392443},\n",
       " {'@id': 2364,\n",
       "  'n': 'PIN1',\n",
       "  'diffusion_output_rank': '9',\n",
       "  'diffusion_output_heat': 0.018697724482554138}]"
      ]
     },
     "execution_count": 7,
     "metadata": {},
     "output_type": "execute_result"
    }
   ],
   "source": [
    "nos = []\n",
    "for node_id, node in nice_cx_net.get_nodes():\n",
    "    rank = nice_cx_net.get_node_attribute_value(node_id, 'diffusion_output_rank')\n",
    "    if int(rank) < 10:\n",
    "        node['diffusion_output_rank'] = rank\n",
    "        heat = nice_cx_net.get_node_attribute_value(node_id, 'diffusion_output_heat')\n",
    "        node['diffusion_output_heat'] = float(heat)\n",
    "        nos.append(node)\n",
    "\n",
    "# sort the result\n",
    "nos = sorted(nos, key=lambda k: k['diffusion_output_rank'])       \n",
    "nos"
   ]
  },
  {
   "cell_type": "markdown",
   "metadata": {},
   "source": [
    "# Demo completed. Have a nice day!"
   ]
  },
  {
   "cell_type": "code",
   "execution_count": null,
   "metadata": {},
   "outputs": [],
   "source": []
  }
 ],
 "metadata": {
  "kernelspec": {
   "display_name": "Python 3",
   "language": "python",
   "name": "python3"
  },
  "language_info": {
   "codemirror_mode": {
    "name": "ipython",
    "version": 3
   },
   "file_extension": ".py",
   "mimetype": "text/x-python",
   "name": "python",
   "nbconvert_exporter": "python",
   "pygments_lexer": "ipython3",
   "version": "3.7.3"
  }
 },
 "nbformat": 4,
 "nbformat_minor": 1
}
