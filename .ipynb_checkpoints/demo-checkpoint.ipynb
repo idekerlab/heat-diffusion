{
 "cells": [
  {
   "cell_type": "markdown",
   "metadata": {},
   "source": [
    "Load libraries.  In this case we need the ndex library, which you can get with \"pip install ndex\""
   ]
  },
  {
   "cell_type": "code",
   "execution_count": 1,
   "metadata": {},
   "outputs": [],
   "source": [
    "#ndex = __import__(\"ndex\")\n",
    "import ndex2.client as nc2\n",
    "import ndex2"
   ]
  },
  {
   "cell_type": "code",
   "execution_count": 2,
   "metadata": {},
   "outputs": [],
   "source": [
    "import requests\n",
    "import json\n",
    "import base64"
   ]
  },
  {
   "cell_type": "markdown",
   "metadata": {},
   "source": [
    "# Connect to NDEx in order to retrieve a network."
   ]
  },
  {
   "cell_type": "code",
   "execution_count": 3,
   "metadata": {},
   "outputs": [],
   "source": [
    "anon_ndex = nc2.Ndex2(\"http://public.ndexbio.org\")"
   ]
  },
  {
   "cell_type": "markdown",
   "metadata": {},
   "source": [
    "Here we grab the \"NCI Pathway Interaction Database - Final Revision - Extended Binary SIF\" from NDEx, using its UUID.  The network is downloaded to create a NiceCX object. Later, the NiceCX is used to create a networkx object, see https://networkx.github.io/ for all the things you can do with it"
   ]
  },
  {
   "cell_type": "code",
   "execution_count": 4,
   "metadata": {},
   "outputs": [],
   "source": [
    "G = ndex2.create_nice_cx_from_server(server='http://public.ndexbio.org', uuid='c0e70804-d848-11e6-86b1-0ac135e8bacf')"
   ]
  },
  {
   "cell_type": "code",
   "execution_count": 5,
   "metadata": {
    "scrolled": true
   },
   "outputs": [
    {
     "name": "stdout",
     "output_type": "stream",
     "text": [
      "1.0\n"
     ]
    }
   ],
   "source": [
    "nodeid = list(G.nodes.keys())[0]\n",
    "G.remove_node_attribute(node=nodeid, attribute_name='diffusion_input')\n",
    "G.set_node_attribute(type='double', node=nodeid, attribute_name='diffusion_input', values='1.0')\n",
    "print(G.get_node_attribute_value(node=nodeid, attribute_name='diffusion_input'))"
   ]
  },
  {
   "cell_type": "markdown",
   "metadata": {},
   "source": [
    "Call the Diffusion service"
   ]
  },
  {
   "cell_type": "markdown",
   "metadata": {},
   "source": [
    "#### NOTE: Diffusion uses the CXmate service, which requires all attributes to be passed as strings. So we convert the network to CX and stringify attributes"
   ]
  },
  {
   "cell_type": "code",
   "execution_count": 6,
   "metadata": {},
   "outputs": [
    {
     "name": "stdout",
     "output_type": "stream",
     "text": [
      "Generating CX\n"
     ]
    }
   ],
   "source": [
    "url = 'http://v3.heat-diffusion.cytoscape.io'\n",
    "payload = G.to_cx()\n",
    "for p in payload:\n",
    "    k = list(p.keys())[0]\n",
    "    if 'Attributes' in k:\n",
    "        for i in range(len(p[k])):\n",
    "            p[k][i]['v'] = str(p[k][i]['v'])\n",
    "response = requests.post(url, json=payload)"
   ]
  },
  {
   "cell_type": "markdown",
   "metadata": {},
   "source": [
    "#The 'data' dictionary in the json response is a dictionary with node IDs as keys and, 'rank' and 'heat' as the values. "
   ]
  },
  {
   "cell_type": "markdown",
   "metadata": {},
   "source": [
    "See the top 10 most relevant nodes to your query. "
   ]
  },
  {
   "cell_type": "code",
   "execution_count": 7,
   "metadata": {},
   "outputs": [],
   "source": [
    "R_nice = ndex2.create_nice_cx_from_raw_cx(response.json()['data'])\n",
    "#R = R_nice.to_networkx()\n",
    "\n",
    "\n"
   ]
  },
  {
   "cell_type": "code",
   "execution_count": 8,
   "metadata": {},
   "outputs": [
    {
     "data": {
      "text/plain": [
       "[{'@id': '1251', 'n': 'RANBP10', 'r': ''},\n",
       " {'@id': '1337', 'n': 'RIT1', 'r': ''},\n",
       " {'@id': '1340', 'n': 'RIT2', 'r': ''},\n",
       " {'@id': '1431', 'n': 'MUC20', 'r': ''},\n",
       " {'@id': '1857', 'n': 'PPP2R1A', 'r': ''},\n",
       " {'@id': '2147', 'n': 'PPP2R2B', 'r': ''},\n",
       " {'@id': '2397', 'n': 'KSR1', 'r': ''},\n",
       " {'@id': '2600', 'n': 'PAK4', 'r': ''},\n",
       " {'@id': '2878', 'n': 'BRAF', 'r': ''},\n",
       " {'@id': '3431', 'n': 'CMTM2', 'r': ''}]"
      ]
     },
     "execution_count": 8,
     "metadata": {},
     "output_type": "execute_result"
    }
   ],
   "source": [
    "nos = []\n",
    "for node_id, node in R_nice.get_nodes():\n",
    "    rank = R_nice.get_node_attribute_value(node_id, 'diffusion_output_rank')\n",
    "    if int(rank) < 10:\n",
    "        nos.append(node)\n",
    "        \n",
    "nos"
   ]
  },
  {
   "cell_type": "code",
   "execution_count": null,
   "metadata": {},
   "outputs": [],
   "source": [
    "nos = []\n",
    "for n in R.nodes_iter():\n",
    "    if int(R.node[n]['diffusion_output_rank']) < 10:\n",
    "        R.node[n]['nid'] = n\n",
    "        nos.append(R.node[n])\n",
    "nos = sorted(nos, key=lambda k: k['diffusion_output_rank'])\n",
    "for no in nos:\n",
    "    print(\"id: \" + str(no['nid']) + \" name: \" + no['name'] + \\\n",
    "          \" rank: \" + str(no['diffusion_output_rank']) + \\\n",
    "          \" heat: \" + str(no['diffusion_output_heat']))"
   ]
  }
 ],
 "metadata": {
  "kernelspec": {
   "display_name": "Python 3",
   "language": "python",
   "name": "python3"
  },
  "language_info": {
   "codemirror_mode": {
    "name": "ipython",
    "version": 3
   },
   "file_extension": ".py",
   "mimetype": "text/x-python",
   "name": "python",
   "nbconvert_exporter": "python",
   "pygments_lexer": "ipython3",
   "version": "3.7.4"
  }
 },
 "nbformat": 4,
 "nbformat_minor": 1
}
